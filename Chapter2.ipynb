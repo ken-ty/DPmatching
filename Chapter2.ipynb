{
  "nbformat": 4,
  "nbformat_minor": 0,
  "metadata": {
    "colab": {
      "name": "Chapter2.ipynb",
      "provenance": [],
      "collapsed_sections": [
        "Z66xPFbGGRjj",
        "J9DntcPEGhXA",
        "zruDRDisG2_Y",
        "AnN-rMlDNMPk",
        "KjNqJXUx3_EZ",
        "lntCrXps4Q0i",
        "w4cE5YgN4ydQ",
        "xJgEueQj9mNm"
      ],
      "authorship_tag": "ABX9TyMdmfWcl8Fy61WgtzCh2x0M",
      "include_colab_link": true
    },
    "kernelspec": {
      "name": "python3",
      "display_name": "Python 3"
    }
  },
  "cells": [
    {
      "cell_type": "markdown",
      "metadata": {
        "id": "view-in-github",
        "colab_type": "text"
      },
      "source": [
        "<a href=\"https://colab.research.google.com/github/kentokura/DPmatching/blob/master/Chapter2.ipynb\" target=\"_parent\"><img src=\"https://colab.research.google.com/assets/colab-badge.svg\" alt=\"Open In Colab\"/></a>"
      ]
    },
    {
      "cell_type": "markdown",
      "metadata": {
        "id": "4H_01ICPFgP9",
        "colab_type": "text"
      },
      "source": [
        "# 第2章 Python プログラミングの基本を学ぶ\n",
        "「pythonによる医用画像処理入門」のチャプター2を写経。\n",
        "一部メモ。\n",
        "pythonの基礎を復習します。"
      ]
    },
    {
      "cell_type": "markdown",
      "metadata": {
        "id": "Z66xPFbGGRjj",
        "colab_type": "text"
      },
      "source": [
        "## 2.1 データ型"
      ]
    },
    {
      "cell_type": "markdown",
      "metadata": {
        "id": "J9DntcPEGhXA",
        "colab_type": "text"
      },
      "source": [
        "### 2.1.1 型とは"
      ]
    },
    {
      "cell_type": "markdown",
      "metadata": {
        "id": "RCUgt3-9J-rc",
        "colab_type": "text"
      },
      "source": [
        "リスト2.1.1"
      ]
    },
    {
      "cell_type": "code",
      "metadata": {
        "id": "M_KE_2p7GbIZ",
        "colab_type": "code",
        "outputId": "5fead789-370d-44b4-e267-905b1fb92231",
        "colab": {
          "base_uri": "https://localhost:8080/",
          "height": 34
        }
      },
      "source": [
        "print(type(10))"
      ],
      "execution_count": 0,
      "outputs": [
        {
          "output_type": "stream",
          "text": [
            "<class 'int'>\n"
          ],
          "name": "stdout"
        }
      ]
    },
    {
      "cell_type": "markdown",
      "metadata": {
        "colab_type": "text",
        "id": "pHtGVkqcGzDb"
      },
      "source": [
        "リスト 2.1.2"
      ]
    },
    {
      "cell_type": "code",
      "metadata": {
        "id": "Yo5qqySHGfN0",
        "colab_type": "code",
        "outputId": "b2f167d6-5a2d-43c2-f4d1-b56a1aed23f2",
        "colab": {
          "base_uri": "https://localhost:8080/",
          "height": 34
        }
      },
      "source": [
        "print(type(\"foo\"))"
      ],
      "execution_count": 0,
      "outputs": [
        {
          "output_type": "stream",
          "text": [
            "<class 'str'>\n"
          ],
          "name": "stdout"
        }
      ]
    },
    {
      "cell_type": "markdown",
      "metadata": {
        "id": "zruDRDisG2_Y",
        "colab_type": "text"
      },
      "source": [
        "### 2.1.2 数値"
      ]
    },
    {
      "cell_type": "markdown",
      "metadata": {
        "id": "SI643tmFKN9-",
        "colab_type": "text"
      },
      "source": [
        "リスト 2.1.3"
      ]
    },
    {
      "cell_type": "code",
      "metadata": {
        "id": "DmpUmQLwKLmH",
        "colab_type": "code",
        "outputId": "a210334d-c0b3-4ded-de21-f520aad73f57",
        "colab": {
          "base_uri": "https://localhost:8080/",
          "height": 68
        }
      },
      "source": [
        "print(type(-5)) #整数\n",
        "print(type(2.73)) #浮動小数点数\n",
        "print(type(-5.0))"
      ],
      "execution_count": 0,
      "outputs": [
        {
          "output_type": "stream",
          "text": [
            "<class 'int'>\n",
            "<class 'float'>\n",
            "<class 'float'>\n"
          ],
          "name": "stdout"
        }
      ]
    },
    {
      "cell_type": "markdown",
      "metadata": {
        "id": "qFXiYwgnGZEI",
        "colab_type": "text"
      },
      "source": [
        "リスト2.1.4"
      ]
    },
    {
      "cell_type": "code",
      "metadata": {
        "id": "bCsvN8ZbHgU7",
        "colab_type": "code",
        "outputId": "2fbcc4e3-6373-4275-d446-af00eb8dde51",
        "colab": {
          "base_uri": "https://localhost:8080/",
          "height": 119
        }
      },
      "source": [
        "print(type(5+4+10))\n",
        "print(type(5+4.0+10))\n",
        "print(type(4.3/2))\n",
        "print(type(4/2))\n",
        "print(type(5//2))\n",
        "print(type(5%2))"
      ],
      "execution_count": 0,
      "outputs": [
        {
          "output_type": "stream",
          "text": [
            "<class 'int'>\n",
            "<class 'float'>\n",
            "<class 'float'>\n",
            "<class 'float'>\n",
            "<class 'int'>\n",
            "<class 'int'>\n"
          ],
          "name": "stdout"
        }
      ]
    },
    {
      "cell_type": "markdown",
      "metadata": {
        "id": "hCqnMIWRLZDO",
        "colab_type": "text"
      },
      "source": [
        "リスト2.1.5"
      ]
    },
    {
      "cell_type": "code",
      "metadata": {
        "colab_type": "code",
        "outputId": "085377a9-d9fa-465f-9197-179eef9068a9",
        "id": "wOjEF_8GMUtZ",
        "colab": {
          "base_uri": "https://localhost:8080/",
          "height": 119
        }
      },
      "source": [
        "print(5+4+10)\n",
        "print(5+4.0+10)\n",
        "print(4.3/2)\n",
        "print(4/2)\n",
        "print(5//2)\n",
        "print(5%2)"
      ],
      "execution_count": 0,
      "outputs": [
        {
          "output_type": "stream",
          "text": [
            "19\n",
            "19.0\n",
            "2.15\n",
            "2.0\n",
            "2\n",
            "1\n"
          ],
          "name": "stdout"
        }
      ]
    },
    {
      "cell_type": "markdown",
      "metadata": {
        "id": "x66GQQWgHSs5",
        "colab_type": "text"
      },
      "source": [
        "リスト2.1.6"
      ]
    },
    {
      "cell_type": "code",
      "metadata": {
        "id": "h2dahWRiMzLL",
        "colab_type": "code",
        "outputId": "97c6a36f-d7b0-41d8-f239-f8ae0d58e4fe",
        "colab": {
          "base_uri": "https://localhost:8080/",
          "height": 68
        }
      },
      "source": [
        "print(5/2)\n",
        "print(6.3/2)\n",
        "print(8/3.0)"
      ],
      "execution_count": 0,
      "outputs": [
        {
          "output_type": "stream",
          "text": [
            "2.5\n",
            "3.15\n",
            "2.6666666666666665\n"
          ],
          "name": "stdout"
        }
      ]
    },
    {
      "cell_type": "markdown",
      "metadata": {
        "id": "5eS16-WCGTNd",
        "colab_type": "text"
      },
      "source": [
        "リスト2.1.7"
      ]
    },
    {
      "cell_type": "code",
      "metadata": {
        "id": "caNB7GXVNGtZ",
        "colab_type": "code",
        "outputId": "5d9f276d-07cf-4fbd-cac3-55531e86e8ae",
        "colab": {
          "base_uri": "https://localhost:8080/",
          "height": 68
        }
      },
      "source": [
        "print(5//2)\n",
        "print(6.3//2)\n",
        "print(8//3.0)"
      ],
      "execution_count": 0,
      "outputs": [
        {
          "output_type": "stream",
          "text": [
            "2\n",
            "3.0\n",
            "2.0\n"
          ],
          "name": "stdout"
        }
      ]
    },
    {
      "cell_type": "markdown",
      "metadata": {
        "id": "AnN-rMlDNMPk",
        "colab_type": "text"
      },
      "source": [
        "### 2.1.3 文字列"
      ]
    },
    {
      "cell_type": "markdown",
      "metadata": {
        "id": "czyi2fv62zNx",
        "colab_type": "text"
      },
      "source": [
        "リスト 2.1.8\n",
        "\n",
        "複数行にわたる場合,(\"\"\"...\"\"\")や('''...''')を使う."
      ]
    },
    {
      "cell_type": "code",
      "metadata": {
        "id": "55Mbtw7423Ew",
        "colab_type": "code",
        "outputId": "06f1e14f-2f90-455c-e982-7c3667006faa",
        "colab": {
          "base_uri": "https://localhost:8080/",
          "height": 68
        }
      },
      "source": [
        "print(type(\"foo\"))\n",
        "print(type('foo'))\n",
        "print(type(\"\"\"hogehoge\n",
        "fugafuga\n",
        "barbar\n",
        "booboo\"\"\"))"
      ],
      "execution_count": 0,
      "outputs": [
        {
          "output_type": "stream",
          "text": [
            "<class 'str'>\n",
            "<class 'str'>\n",
            "<class 'str'>\n"
          ],
          "name": "stdout"
        }
      ]
    },
    {
      "cell_type": "markdown",
      "metadata": {
        "id": "SUfal1iW2_gL",
        "colab_type": "text"
      },
      "source": [
        "リスト 2.1.9"
      ]
    },
    {
      "cell_type": "code",
      "metadata": {
        "id": "IuU1r26O3VdO",
        "colab_type": "code",
        "outputId": "2ec7de86-1a8f-4439-f2d9-fc73b179d54f",
        "colab": {
          "base_uri": "https://localhost:8080/",
          "height": 34
        }
      },
      "source": [
        "print(\"Alice\" + \" in \" + \"Wonderland\")"
      ],
      "execution_count": 0,
      "outputs": [
        {
          "output_type": "stream",
          "text": [
            "Alice in Wonderland\n"
          ],
          "name": "stdout"
        }
      ]
    },
    {
      "cell_type": "markdown",
      "metadata": {
        "id": "gdn8Yrks3qah",
        "colab_type": "text"
      },
      "source": [
        "リスト2.1.10\n",
        "\n",
        "str型とint型を+演算子で連結することはできない."
      ]
    },
    {
      "cell_type": "code",
      "metadata": {
        "id": "Wzl7jJ5h3ueM",
        "colab_type": "code",
        "outputId": "72308348-0ba3-4e52-c000-5b991f0d4eb2",
        "colab": {
          "base_uri": "https://localhost:8080/",
          "height": 168
        }
      },
      "source": [
        "print(\"I am \" + 20 + \" years old.\")"
      ],
      "execution_count": 0,
      "outputs": [
        {
          "output_type": "error",
          "ename": "TypeError",
          "evalue": "ignored",
          "traceback": [
            "\u001b[0;31m---------------------------------------------------------------------------\u001b[0m",
            "\u001b[0;31mTypeError\u001b[0m                                 Traceback (most recent call last)",
            "\u001b[0;32m<ipython-input-4-cb701a506a55>\u001b[0m in \u001b[0;36m<module>\u001b[0;34m()\u001b[0m\n\u001b[0;32m----> 1\u001b[0;31m \u001b[0mprint\u001b[0m\u001b[0;34m(\u001b[0m\u001b[0;34m\"I am \"\u001b[0m \u001b[0;34m+\u001b[0m \u001b[0;36m20\u001b[0m \u001b[0;34m+\u001b[0m \u001b[0;34m\" years old.\"\u001b[0m\u001b[0;34m)\u001b[0m\u001b[0;34m\u001b[0m\u001b[0;34m\u001b[0m\u001b[0m\n\u001b[0m",
            "\u001b[0;31mTypeError\u001b[0m: must be str, not int"
          ]
        }
      ]
    },
    {
      "cell_type": "markdown",
      "metadata": {
        "id": "ac7ms0fS30JD",
        "colab_type": "text"
      },
      "source": [
        "リスト2.1.11\n",
        "\n",
        "こうする"
      ]
    },
    {
      "cell_type": "code",
      "metadata": {
        "colab_type": "code",
        "outputId": "fef9fce0-a6da-4afe-84e3-50bacb7363a3",
        "id": "RQJ3gQpF4K1J",
        "colab": {
          "base_uri": "https://localhost:8080/",
          "height": 34
        }
      },
      "source": [
        "print(\"I am \" + str(20) + \" years old.\")"
      ],
      "execution_count": 0,
      "outputs": [
        {
          "output_type": "stream",
          "text": [
            "I am 20 years old.\n"
          ],
          "name": "stdout"
        }
      ]
    },
    {
      "cell_type": "markdown",
      "metadata": {
        "id": "KjNqJXUx3_EZ",
        "colab_type": "text"
      },
      "source": [
        "## 2.2 変数"
      ]
    },
    {
      "cell_type": "markdown",
      "metadata": {
        "id": "lntCrXps4Q0i",
        "colab_type": "text"
      },
      "source": [
        "### 2.2.1 変数とは"
      ]
    },
    {
      "cell_type": "markdown",
      "metadata": {
        "id": "6rexs7IW4pXF",
        "colab_type": "text"
      },
      "source": [
        "リスト 2.2.1"
      ]
    },
    {
      "cell_type": "code",
      "metadata": {
        "id": "M-DqaU0r4vYa",
        "colab_type": "code",
        "outputId": "5ada7ae7-02a9-4baf-c7dc-41dd277688f2",
        "colab": {
          "base_uri": "https://localhost:8080/",
          "height": 34
        }
      },
      "source": [
        "a = 10\n",
        "b = a + 10\n",
        "print(b)"
      ],
      "execution_count": 0,
      "outputs": [
        {
          "output_type": "stream",
          "text": [
            "20\n"
          ],
          "name": "stdout"
        }
      ]
    },
    {
      "cell_type": "markdown",
      "metadata": {
        "id": "w4cE5YgN4ydQ",
        "colab_type": "text"
      },
      "source": [
        "### 2.2.2 変数名\n",
        "\n",
        "変数名として使える文字は以下である。\n",
        "\n",
        "- 0-9\n",
        "- A-Z\n",
        "- a-z\n",
        "- _"
      ]
    },
    {
      "cell_type": "markdown",
      "metadata": {
        "id": "EPOmRz1D5OTI",
        "colab_type": "text"
      },
      "source": [
        "リスト 2.2.2"
      ]
    },
    {
      "cell_type": "code",
      "metadata": {
        "id": "66EmviAa5Lut",
        "colab_type": "code",
        "colab": {}
      },
      "source": [
        "No.19 = 10 # .はエラーとなる"
      ],
      "execution_count": 0,
      "outputs": []
    },
    {
      "cell_type": "markdown",
      "metadata": {
        "id": "Cl0JWgSg5V_Q",
        "colab_type": "text"
      },
      "source": [
        "リスト 2.2.3"
      ]
    },
    {
      "cell_type": "code",
      "metadata": {
        "id": "uIKFRzrp42RR",
        "colab_type": "code",
        "colab": {}
      },
      "source": [
        "1a = 10 # 数字が先頭だとエラー"
      ],
      "execution_count": 0,
      "outputs": []
    },
    {
      "cell_type": "markdown",
      "metadata": {
        "id": "gr7eW1365fCL",
        "colab_type": "text"
      },
      "source": [
        "リスト 2.2.4\n",
        "\n",
        "キーワード（予約語)はpythonでは特別な意味を持つので変数名としては使えない。以下のように確認できる。"
      ]
    },
    {
      "cell_type": "code",
      "metadata": {
        "id": "sijgqFis54G6",
        "colab_type": "code",
        "outputId": "0c757bcc-c63d-4a95-d8fc-307ee5e66ba3",
        "colab": {
          "base_uri": "https://localhost:8080/",
          "height": 578
        }
      },
      "source": [
        "import keyword\n",
        "\n",
        "# 横長が嫌だからforで回す\n",
        "for word in keyword.kwlist:\n",
        "  print(word)"
      ],
      "execution_count": 0,
      "outputs": [
        {
          "output_type": "stream",
          "text": [
            "False\n",
            "None\n",
            "True\n",
            "and\n",
            "as\n",
            "assert\n",
            "break\n",
            "class\n",
            "continue\n",
            "def\n",
            "del\n",
            "elif\n",
            "else\n",
            "except\n",
            "finally\n",
            "for\n",
            "from\n",
            "global\n",
            "if\n",
            "import\n",
            "in\n",
            "is\n",
            "lambda\n",
            "nonlocal\n",
            "not\n",
            "or\n",
            "pass\n",
            "raise\n",
            "return\n",
            "try\n",
            "while\n",
            "with\n",
            "yield\n"
          ],
          "name": "stdout"
        }
      ]
    },
    {
      "cell_type": "markdown",
      "metadata": {
        "id": "-KEj3-Zt6SEN",
        "colab_type": "text"
      },
      "source": [
        "リスト 2.2.5"
      ]
    },
    {
      "cell_type": "code",
      "metadata": {
        "id": "bntkfVL56MkO",
        "colab_type": "code",
        "outputId": "31cf0556-cbca-45bc-8572-b47e5fe0a241",
        "colab": {
          "base_uri": "https://localhost:8080/",
          "height": 34
        }
      },
      "source": [
        "a = 10\n",
        "a = a - 3\n",
        "print(a)"
      ],
      "execution_count": 0,
      "outputs": [
        {
          "output_type": "stream",
          "text": [
            "7\n"
          ],
          "name": "stdout"
        }
      ]
    },
    {
      "cell_type": "markdown",
      "metadata": {
        "id": "0H5bQ-aH6fRa",
        "colab_type": "text"
      },
      "source": [
        "リスト 2.2.6"
      ]
    },
    {
      "cell_type": "code",
      "metadata": {
        "colab_type": "code",
        "outputId": "906c81c9-c1ec-4441-bd39-80685677e94b",
        "id": "g_Z8vygK6kmK",
        "colab": {
          "base_uri": "https://localhost:8080/",
          "height": 34
        }
      },
      "source": [
        "a = 10\n",
        "a -= 3\n",
        "print(a)"
      ],
      "execution_count": 0,
      "outputs": [
        {
          "output_type": "stream",
          "text": [
            "7\n"
          ],
          "name": "stdout"
        }
      ]
    },
    {
      "cell_type": "markdown",
      "metadata": {
        "colab_type": "text",
        "id": "QdmtdN-N6nRy"
      },
      "source": [
        "リスト 2.2.7"
      ]
    },
    {
      "cell_type": "code",
      "metadata": {
        "colab_type": "code",
        "outputId": "cdf5f294-b6d9-46be-a2d8-42542af4ce34",
        "id": "S1Upz7VJ6k46",
        "colab": {
          "base_uri": "https://localhost:8080/",
          "height": 34
        }
      },
      "source": [
        "a = 10\n",
        "a *= 2\n",
        "print(a)"
      ],
      "execution_count": 0,
      "outputs": [
        {
          "output_type": "stream",
          "text": [
            "20\n"
          ],
          "name": "stdout"
        }
      ]
    },
    {
      "cell_type": "markdown",
      "metadata": {
        "id": "9xm8Iyp46s73",
        "colab_type": "text"
      },
      "source": [
        "リスト 2.2.8\n",
        "\n",
        "pythonでは、変数名は小文字で始まり、\"_\"で単語をつなぐのが慣習。\n",
        "スネークケースなどという。  \n",
        "正式なものは[PEP8](https://pep8-ja.readthedocs.io/ja/latest/)を参照されたし。"
      ]
    },
    {
      "cell_type": "code",
      "metadata": {
        "id": "pCCSeFiw666h",
        "colab_type": "code",
        "outputId": "2c54a809-119b-428d-a00e-1bcb55e16bb3",
        "colab": {
          "base_uri": "https://localhost:8080/",
          "height": 34
        }
      },
      "source": [
        "green_apple = 100\n",
        "summer_orange = 500\n",
        "sales_tax = 0.1\n",
        "price = int((green_apple * 5 + summer_orange * 2) * (1.0 + sales_tax))\n",
        "print(price)"
      ],
      "execution_count": 0,
      "outputs": [
        {
          "output_type": "stream",
          "text": [
            "1650\n"
          ],
          "name": "stdout"
        }
      ]
    },
    {
      "cell_type": "markdown",
      "metadata": {
        "id": "hMCon6H-7sAq",
        "colab_type": "text"
      },
      "source": [
        "## 2.3 データ構造\n"
      ]
    },
    {
      "cell_type": "markdown",
      "metadata": {
        "id": "xJgEueQj9mNm",
        "colab_type": "text"
      },
      "source": [
        "### 2.3.1 リスト"
      ]
    },
    {
      "cell_type": "markdown",
      "metadata": {
        "id": "23M4Sjiq9pLf",
        "colab_type": "text"
      },
      "source": [
        "リスト 2.3.1, 2.3.2, 2.3.3"
      ]
    },
    {
      "cell_type": "code",
      "metadata": {
        "id": "OQMafn5c7qJB",
        "colab_type": "code",
        "colab": {}
      },
      "source": [
        "p1 = 10000  # 1月分\n",
        "p2 = 20000  # 2月分\n",
        "p3 = 100000 # 3月分\n",
        "p4 = 1000   # 4月分\n",
        "p5 = 200000 # 5月分"
      ],
      "execution_count": 0,
      "outputs": []
    },
    {
      "cell_type": "markdown",
      "metadata": {
        "id": "P2xNULK-99rk",
        "colab_type": "text"
      },
      "source": [
        "↓"
      ]
    },
    {
      "cell_type": "code",
      "metadata": {
        "id": "3hXvppMF58DW",
        "colab_type": "code",
        "outputId": "eaa97872-4d3c-458d-eedc-991fdd7ff269",
        "colab": {
          "base_uri": "https://localhost:8080/",
          "height": 34
        }
      },
      "source": [
        "prices = [10000, 20000, 100000, 1000, 200000]\n",
        "print(type(prices))"
      ],
      "execution_count": 0,
      "outputs": [
        {
          "output_type": "stream",
          "text": [
            "<class 'list'>\n"
          ],
          "name": "stdout"
        }
      ]
    },
    {
      "cell_type": "code",
      "metadata": {
        "id": "iub0bODl-HOV",
        "colab_type": "code",
        "outputId": "0e1df59d-5348-4b81-8d2c-9be8469bbb89",
        "colab": {
          "base_uri": "https://localhost:8080/",
          "height": 68
        }
      },
      "source": [
        "print(prices[0])\n",
        "print(prices[0])\n",
        "print(type(prices[0]))"
      ],
      "execution_count": 0,
      "outputs": [
        {
          "output_type": "stream",
          "text": [
            "10000\n",
            "10000\n",
            "<class 'int'>\n"
          ],
          "name": "stdout"
        }
      ]
    },
    {
      "cell_type": "markdown",
      "metadata": {
        "id": "HfK-BlC4ACia",
        "colab_type": "text"
      },
      "source": [
        "リスト 2.3.4"
      ]
    },
    {
      "cell_type": "code",
      "metadata": {
        "id": "kOzIi-qiABOO",
        "colab_type": "code",
        "outputId": "33712751-828c-4274-c51b-2061a848a7e5",
        "colab": {
          "base_uri": "https://localhost:8080/",
          "height": 68
        }
      },
      "source": [
        "print(prices[0])\n",
        "prices[0] = 20\n",
        "print(prices[0])\n",
        "print(prices)"
      ],
      "execution_count": 0,
      "outputs": [
        {
          "output_type": "stream",
          "text": [
            "10000\n",
            "20\n",
            "[20, 20000, 100000, 1000, 200000]\n"
          ],
          "name": "stdout"
        }
      ]
    },
    {
      "cell_type": "markdown",
      "metadata": {
        "id": "sgZNyptaBAM2",
        "colab_type": "text"
      },
      "source": [
        "リスト 2.3.5"
      ]
    },
    {
      "cell_type": "code",
      "metadata": {
        "id": "xRJbRcbPBAvm",
        "colab_type": "code",
        "outputId": "d0f1d3f6-a492-46ae-91e1-953ea0caa3f6",
        "colab": {
          "base_uri": "https://localhost:8080/",
          "height": 34
        }
      },
      "source": [
        "print(len(prices))"
      ],
      "execution_count": 0,
      "outputs": [
        {
          "output_type": "stream",
          "text": [
            "5\n"
          ],
          "name": "stdout"
        }
      ]
    },
    {
      "cell_type": "markdown",
      "metadata": {
        "id": "KRB0dS15BAxw",
        "colab_type": "text"
      },
      "source": [
        "リスト 2.3.6\n",
        "\n",
        "文字列の分割"
      ]
    },
    {
      "cell_type": "code",
      "metadata": {
        "id": "cf7ydHPiBN9l",
        "colab_type": "code",
        "outputId": "7893febc-8a35-40f3-936e-45bb3f5d0190",
        "colab": {
          "base_uri": "https://localhost:8080/",
          "height": 85
        }
      },
      "source": [
        "string = \"a new stereophonic sound spectacular\"\n",
        "slist = string.split(\" \")\n",
        "print(string)\n",
        "print(slist)\n",
        "print(type(string))\n",
        "print(type(slist))"
      ],
      "execution_count": 0,
      "outputs": [
        {
          "output_type": "stream",
          "text": [
            "a new stereophonic sound spectacular\n",
            "['a', 'new', 'stereophonic', 'sound', 'spectacular']\n",
            "<class 'str'>\n",
            "<class 'list'>\n"
          ],
          "name": "stdout"
        }
      ]
    },
    {
      "cell_type": "markdown",
      "metadata": {
        "id": "96f0OQDFBbfT",
        "colab_type": "text"
      },
      "source": [
        "リスト 2.3.7\n",
        "\n",
        "リストの結合には\n",
        "join()メソッドを使う。"
      ]
    },
    {
      "cell_type": "code",
      "metadata": {
        "id": "Usb-Vkc5Brlo",
        "colab_type": "code",
        "outputId": "f2a72bff-7963-4c3f-879c-86dc5f789853",
        "colab": {
          "base_uri": "https://localhost:8080/",
          "height": 34
        }
      },
      "source": [
        "slist = ['a', 'new', 'stereophonic', 'sound', 'spectacular']\n",
        "string2 = \" \".join(slist)\n",
        "print(string2)"
      ],
      "execution_count": 0,
      "outputs": [
        {
          "output_type": "stream",
          "text": [
            "a new stereophonic sound spectacular\n"
          ],
          "name": "stdout"
        }
      ]
    },
    {
      "cell_type": "markdown",
      "metadata": {
        "id": "AEHQMPlgB9xz",
        "colab_type": "text"
      },
      "source": [
        "リスト 2.3.8\n",
        "\n",
        "文字列の置換には\n",
        "replace()メソッドが使える。 元の文字列は変化させない。"
      ]
    },
    {
      "cell_type": "code",
      "metadata": {
        "id": "F9MBfhIzBoOm",
        "colab_type": "code",
        "outputId": "462ee5c3-89b8-4016-da8c-18240fd85406",
        "colab": {
          "base_uri": "https://localhost:8080/",
          "height": 51
        }
      },
      "source": [
        "string = \"a new stereophonic sound spectacular\"\n",
        "srep = string.replace('s', 'S')\n",
        "print(srep)\n",
        "print(string)"
      ],
      "execution_count": 0,
      "outputs": [
        {
          "output_type": "stream",
          "text": [
            "a new Stereophonic Sound Spectacular\n",
            "a new stereophonic sound spectacular\n"
          ],
          "name": "stdout"
        }
      ]
    },
    {
      "cell_type": "markdown",
      "metadata": {
        "id": "IeKyfp04BblO",
        "colab_type": "text"
      },
      "source": [
        "リスト 2.3.9\n",
        "\n",
        "空白を取り払う。\n",
        "\n",
        "- strip()  : 両端\n",
        "- rstrip() : 右側"
      ]
    },
    {
      "cell_type": "code",
      "metadata": {
        "id": "jJlSrF6jDItO",
        "colab_type": "code",
        "outputId": "97111bb0-8434-4604-fcd2-32e7ac5d86ef",
        "colab": {
          "base_uri": "https://localhost:8080/",
          "height": 34
        }
      },
      "source": [
        "string = \"   foo      \" # 両端に空白\n",
        "srp = string.strip()\n",
        "print(srp)"
      ],
      "execution_count": 0,
      "outputs": [
        {
          "output_type": "stream",
          "text": [
            "foo\n"
          ],
          "name": "stdout"
        }
      ]
    },
    {
      "cell_type": "markdown",
      "metadata": {
        "id": "SRRwT2XlDTPM",
        "colab_type": "text"
      },
      "source": [
        "リスト 2.3.10\n",
        "\n",
        "スライス:\n",
        "- list[ 取り出す最初のインデックス値 : 取り出す最後のインデックス値 + 1] とする。\n",
        "- 例えば、list[2:4] ならlistのインデックス2,3の値(3,4番目の要素)が取得できる。\n",
        "- list[2:], list[:3], list[:]のように、数字を省略できる。"
      ]
    },
    {
      "cell_type": "code",
      "metadata": {
        "id": "-oZKsyOxEpIJ",
        "colab_type": "code",
        "outputId": "789049c4-eefb-48d0-c504-99b56bb0633b",
        "colab": {
          "base_uri": "https://localhost:8080/",
          "height": 68
        }
      },
      "source": [
        "prices = [1000, 20000, 100000, 1000, 200000]\n",
        "p1 = prices[2:4]\n",
        "p2 = prices[2:]\n",
        "p3 = prices[:4]\n",
        "print(p1)\n",
        "print(p2)\n",
        "print(p3)"
      ],
      "execution_count": 0,
      "outputs": [
        {
          "output_type": "stream",
          "text": [
            "[100000, 1000]\n",
            "[100000, 1000, 200000]\n",
            "[1000, 20000, 100000, 1000]\n"
          ],
          "name": "stdout"
        }
      ]
    },
    {
      "cell_type": "markdown",
      "metadata": {
        "id": "lAo-YCaKHOZW",
        "colab_type": "text"
      },
      "source": [
        "リスト 2.3.11\n",
        "\n",
        "スライスされたリストの要素を変更しても元のリストは変わらない。"
      ]
    },
    {
      "cell_type": "code",
      "metadata": {
        "id": "wBoWrgebHT2o",
        "colab_type": "code",
        "outputId": "c01d624c-4fca-48b2-8201-a09c91976905",
        "colab": {
          "base_uri": "https://localhost:8080/",
          "height": 68
        }
      },
      "source": [
        "prices = [1000, 20000, 100000, 1000, 200000]\n",
        "p1 = prices[2:4]\n",
        "print(p1)\n",
        "p1[0] = \"hoge\"\n",
        "print(p1)\n",
        "print(prices)"
      ],
      "execution_count": 0,
      "outputs": [
        {
          "output_type": "stream",
          "text": [
            "[100000, 1000]\n",
            "['hoge', 1000]\n",
            "[1000, 20000, 100000, 1000, 200000]\n"
          ],
          "name": "stdout"
        }
      ]
    },
    {
      "cell_type": "markdown",
      "metadata": {
        "id": "ZFMQFqGqHigk",
        "colab_type": "text"
      },
      "source": [
        "リスト 2.3.11と12の間"
      ]
    },
    {
      "cell_type": "code",
      "metadata": {
        "id": "c7HwuHgqIabB",
        "colab_type": "code",
        "outputId": "7a8b64d9-03df-4583-f59b-45e146f8f758",
        "colab": {
          "base_uri": "https://localhost:8080/",
          "height": 34
        }
      },
      "source": [
        "prices = [10, 20000, 100000, 1000, 200000]\n",
        "prices.append(1234)\n",
        "print(prices)"
      ],
      "execution_count": 0,
      "outputs": [
        {
          "output_type": "stream",
          "text": [
            "[10, 20000, 100000, 1000, 200000, 1234]\n"
          ],
          "name": "stdout"
        }
      ]
    },
    {
      "cell_type": "markdown",
      "metadata": {
        "id": "Skul2KVTH_c-",
        "colab_type": "text"
      },
      "source": [
        "リスト 2.3.12\n",
        "\n",
        "リストの連結"
      ]
    },
    {
      "cell_type": "code",
      "metadata": {
        "id": "8i5ctN_5In6w",
        "colab_type": "code",
        "outputId": "f3e364e8-c3e8-450c-9884-1ade8938602a",
        "colab": {
          "base_uri": "https://localhost:8080/",
          "height": 34
        }
      },
      "source": [
        "humans = ['Alice', 'Mad Hatter', 'Queen', 'King']\n",
        "animals = ['Rabbit', 'Mouse', 'Puppy', 'Caterpillar', 'Cat']\n",
        "chars = humans + animals\n",
        "print(chars)"
      ],
      "execution_count": 0,
      "outputs": [
        {
          "output_type": "stream",
          "text": [
            "['Alice', 'Mad Hatter', 'Queen', 'King', 'Rabbit', 'Mouse', 'Puppy', 'Caterpillar', 'Cat']\n"
          ],
          "name": "stdout"
        }
      ]
    },
    {
      "cell_type": "markdown",
      "metadata": {
        "id": "wv1QGdsvJLVm",
        "colab_type": "text"
      },
      "source": [
        "Tips\n",
        "\n",
        "- Ctrl + M + M でテキストセルに変換\n",
        "- Ctrl + M + Y でコードセルに変換"
      ]
    },
    {
      "cell_type": "markdown",
      "metadata": {
        "id": "Pgoq7P2iJ2M_",
        "colab_type": "text"
      },
      "source": [
        "リスト 2.3.13\n",
        "\n",
        "sorted()関数で並び替え.  \n",
        "list.sort() だと、破壊的な変更.\n",
        "\n",
        "降順にするためには引数に`reverse = True`とする.\n"
      ]
    },
    {
      "cell_type": "code",
      "metadata": {
        "id": "egTpV0sbKDcg",
        "colab_type": "code",
        "outputId": "e238f42c-4058-448d-8302-848d112c1835",
        "colab": {
          "base_uri": "https://localhost:8080/",
          "height": 68
        }
      },
      "source": [
        "prices = [10, 20000, 100000, 1000, 200000]\n",
        "sprices = sorted(prices)\n",
        "print(sprices)\n",
        "print(prices)\n",
        "prices.sort()\n",
        "print(prices)"
      ],
      "execution_count": 0,
      "outputs": [
        {
          "output_type": "stream",
          "text": [
            "[10, 1000, 20000, 100000, 200000]\n",
            "[10, 20000, 100000, 1000, 200000]\n",
            "[10, 1000, 20000, 100000, 200000]\n"
          ],
          "name": "stdout"
        }
      ]
    },
    {
      "cell_type": "markdown",
      "metadata": {
        "id": "xSIUarp2Q8v4",
        "colab_type": "text"
      },
      "source": [
        "リスト 2.3.14\n",
        "\n",
        "リストに値が存在するかどうか"
      ]
    },
    {
      "cell_type": "code",
      "metadata": {
        "id": "snj9IihbKmYj",
        "colab_type": "code",
        "outputId": "3a38fb9e-56f7-4181-f780-88f42db2ad62",
        "colab": {
          "base_uri": "https://localhost:8080/",
          "height": 51
        }
      },
      "source": [
        "humans = ['Alice', 'Mad Hatter', 'Queen', 'King']\n",
        "t = 'Rabbit' in humans\n",
        "print(t)\n",
        "s = 'Rabbit' not in humans\n",
        "print(s)"
      ],
      "execution_count": 0,
      "outputs": [
        {
          "output_type": "stream",
          "text": [
            "False\n",
            "True\n"
          ],
          "name": "stdout"
        }
      ]
    },
    {
      "cell_type": "markdown",
      "metadata": {
        "id": "SM0yHXBASBkw",
        "colab_type": "text"
      },
      "source": [
        "### 2.3.2 タプル\n",
        "\n",
        "要素を変更できない. このことを\"イミュータブルである\"、という.\n",
        "\n",
        "対義語: ミュータブル(変更可能)  \n",
        "関連語: プリミティブ型 ( 言語の仕様であらかじめ定義されている型. 定義にほかのデータ型を用いない.)"
      ]
    },
    {
      "cell_type": "markdown",
      "metadata": {
        "id": "1IKeu-4oRNeG",
        "colab_type": "text"
      },
      "source": [
        "リスト 2.3.15"
      ]
    },
    {
      "cell_type": "code",
      "metadata": {
        "id": "GSe4stOVRG5j",
        "colab_type": "code",
        "outputId": "f952f01b-57c3-4969-8268-a337dfc201e0",
        "colab": {
          "base_uri": "https://localhost:8080/",
          "height": 51
        }
      },
      "source": [
        "prices = (1000, 20000, 100000, 1000, 200000)\n",
        "print(type(prices))\n",
        "print(prices)"
      ],
      "execution_count": 0,
      "outputs": [
        {
          "output_type": "stream",
          "text": [
            "<class 'tuple'>\n",
            "(1000, 20000, 100000, 1000, 200000)\n"
          ],
          "name": "stdout"
        }
      ]
    },
    {
      "cell_type": "markdown",
      "metadata": {
        "id": "PERY76DKWIwk",
        "colab_type": "text"
      },
      "source": [
        "リスト 2.3.16\n",
        "\n",
        "再代入はできない。"
      ]
    },
    {
      "cell_type": "code",
      "metadata": {
        "id": "8OYjaezFWPKr",
        "colab_type": "code",
        "outputId": "04acd36d-a683-4182-ce0c-2b78eb43b2d6",
        "colab": {
          "base_uri": "https://localhost:8080/",
          "height": 202
        }
      },
      "source": [
        "prices = (1000, 20000, 100000, 1000, 200000)\n",
        "prices[1] = 20 # 書き換えはエラーが出る\n",
        "print(prices)"
      ],
      "execution_count": 0,
      "outputs": [
        {
          "output_type": "error",
          "ename": "TypeError",
          "evalue": "ignored",
          "traceback": [
            "\u001b[0;31m---------------------------------------------------------------------------\u001b[0m",
            "\u001b[0;31mTypeError\u001b[0m                                 Traceback (most recent call last)",
            "\u001b[0;32m<ipython-input-11-4eaa20160e19>\u001b[0m in \u001b[0;36m<module>\u001b[0;34m()\u001b[0m\n\u001b[1;32m      1\u001b[0m \u001b[0mprices\u001b[0m \u001b[0;34m=\u001b[0m \u001b[0;34m(\u001b[0m\u001b[0;36m1000\u001b[0m\u001b[0;34m,\u001b[0m \u001b[0;36m20000\u001b[0m\u001b[0;34m,\u001b[0m \u001b[0;36m100000\u001b[0m\u001b[0;34m,\u001b[0m \u001b[0;36m1000\u001b[0m\u001b[0;34m,\u001b[0m \u001b[0;36m200000\u001b[0m\u001b[0;34m)\u001b[0m\u001b[0;34m\u001b[0m\u001b[0;34m\u001b[0m\u001b[0m\n\u001b[0;32m----> 2\u001b[0;31m \u001b[0mprices\u001b[0m\u001b[0;34m[\u001b[0m\u001b[0;36m1\u001b[0m\u001b[0;34m]\u001b[0m \u001b[0;34m=\u001b[0m \u001b[0;36m20\u001b[0m \u001b[0;31m# 書き換えはエラーが出る\u001b[0m\u001b[0;34m\u001b[0m\u001b[0;34m\u001b[0m\u001b[0m\n\u001b[0m\u001b[1;32m      3\u001b[0m \u001b[0mprint\u001b[0m\u001b[0;34m(\u001b[0m\u001b[0mprices\u001b[0m\u001b[0;34m)\u001b[0m\u001b[0;34m\u001b[0m\u001b[0;34m\u001b[0m\u001b[0m\n",
            "\u001b[0;31mTypeError\u001b[0m: 'tuple' object does not support item assignment"
          ]
        }
      ]
    },
    {
      "cell_type": "markdown",
      "metadata": {
        "id": "QBDdQl7pWVhM",
        "colab_type": "text"
      },
      "source": [
        "リスト 2.3.17\n",
        "\n",
        "リストとタプルは、互いに変換できる。\n",
        "- list()\n",
        "> 引数にタプルを入れるとリストに変換する\n",
        "- tuple()\n",
        "> 引数にリストを入れるとタプルに変換する  \n",
        "> スペルに注意！ t**u**ple です。\n",
        "\n",
        "タプルの使われ方:\n",
        "\n",
        "- 関数の引数はタプルとして渡される.\n",
        "- 関数の戻り値として複数の値を返す時\n",
        "- 辞書のキー"
      ]
    },
    {
      "cell_type": "code",
      "metadata": {
        "id": "2X_u5i4xb-XU",
        "colab_type": "code",
        "colab": {
          "base_uri": "https://localhost:8080/",
          "height": 51
        },
        "outputId": "5848f6ca-ab97-40d1-c2ac-9cd41e26967a"
      },
      "source": [
        "humans = ('Alice', 'Mat Hatter', 'Queen', 'King') # tuple\n",
        "animals = ['Rabbit', 'Mouse', 'Puppy', 'Caterpillar', 'Cat'] # list\n",
        "h = list(humans)\n",
        "print(h)\n",
        "a = tuple(animals)\n",
        "print(a)"
      ],
      "execution_count": 2,
      "outputs": [
        {
          "output_type": "stream",
          "text": [
            "['Alice', 'Mat Hatter', 'Queen', 'King']\n",
            "('Rabbit', 'Mouse', 'Puppy', 'Caterpillar', 'Cat')\n"
          ],
          "name": "stdout"
        }
      ]
    }
  ]
}